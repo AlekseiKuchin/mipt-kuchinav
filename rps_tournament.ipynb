{
  "cells": [
    {
      "cell_type": "code",
      "execution_count": 1,
      "metadata": {
        "id": "gdsrUHDLhyW-",
        "vscode": {
          "languageId": "plaintext"
        },
        "outputId": "5a1c6617-ebe2-4ed5-89d0-04b190e6428b",
        "colab": {
          "base_uri": "https://localhost:8080/"
        }
      },
      "outputs": [
        {
          "output_type": "stream",
          "name": "stdout",
          "text": [
            "  Preparing metadata (setup.py) ... \u001b[?25l\u001b[?25hdone\n",
            "\u001b[2K   \u001b[90m━━━━━━━━━━━━━━━━━━━━━━━━━━━━━━━━━━━━━━━━\u001b[0m \u001b[32m1.4/1.4 MB\u001b[0m \u001b[31m6.7 MB/s\u001b[0m eta \u001b[36m0:00:00\u001b[0m\n",
            "\u001b[2K   \u001b[90m━━━━━━━━━━━━━━━━━━━━━━━━━━━━━━━━━━━━━━━━\u001b[0m \u001b[32m953.8/953.8 kB\u001b[0m \u001b[31m27.2 MB/s\u001b[0m eta \u001b[36m0:00:00\u001b[0m\n",
            "\u001b[2K   \u001b[90m━━━━━━━━━━━━━━━━━━━━━━━━━━━━━━━━━━━━━━━━\u001b[0m \u001b[32m840.2/840.2 kB\u001b[0m \u001b[31m10.7 MB/s\u001b[0m eta \u001b[36m0:00:00\u001b[0m\n",
            "\u001b[2K   \u001b[90m━━━━━━━━━━━━━━━━━━━━━━━━━━━━━━━━━━━━━━━━\u001b[0m \u001b[32m178.7/178.7 kB\u001b[0m \u001b[31m5.8 MB/s\u001b[0m eta \u001b[36m0:00:00\u001b[0m\n",
            "\u001b[?25h  Building wheel for Chessnut (setup.py) ... \u001b[?25l\u001b[?25hdone\n"
          ]
        }
      ],
      "source": [
        "!pip install -q -U kaggle_environments"
      ]
    },
    {
      "cell_type": "code",
      "execution_count": 3,
      "metadata": {
        "id": "0qCeOVAMikRJ"
      },
      "outputs": [],
      "source": [
        "import numpy as np\n",
        "import pandas as pd\n",
        "import random\n",
        "\n",
        "import matplotlib.pyplot as plt\n",
        "import seaborn as sns\n",
        "\n",
        "from kaggle_environments import make, evaluate"
      ]
    },
    {
      "cell_type": "code",
      "execution_count": 60,
      "metadata": {
        "id": "lTwqvj09LLwc",
        "outputId": "3a1f6719-c850-4034-f487-00b28b5a13d6",
        "colab": {
          "base_uri": "https://localhost:8080/"
        }
      },
      "outputs": [
        {
          "output_type": "stream",
          "name": "stdout",
          "text": [
            "Cloning into 'mipt-kuchinav'...\n",
            "remote: Enumerating objects: 33, done.\u001b[K\n",
            "remote: Counting objects: 100% (33/33), done.\u001b[K\n",
            "remote: Compressing objects: 100% (24/24), done.\u001b[K\n",
            "remote: Total 33 (delta 10), reused 26 (delta 6), pack-reused 0 (from 0)\u001b[K\n",
            "Receiving objects: 100% (33/33), 5.52 KiB | 5.52 MiB/s, done.\n",
            "Resolving deltas: 100% (10/10), done.\n"
          ]
        }
      ],
      "source": [
        "!git clone https://github.com/AlekseiKuchin/mipt-kuchinav.git"
      ]
    },
    {
      "cell_type": "code",
      "source": [
        "!cd /content/mipt-kuchinav/\n",
        "!cat /content/mipt-kuchinav/main.py"
      ],
      "metadata": {
        "id": "GhfOtYZaNE36",
        "outputId": "2704e6b4-6376-46f1-bb29-f9efda121160",
        "colab": {
          "base_uri": "https://localhost:8080/"
        }
      },
      "execution_count": 61,
      "outputs": [
        {
          "output_type": "stream",
          "name": "stdout",
          "text": [
            "from kaggle_environments import evaluate\n",
            "\n",
            "# Список файлов с кодами агентов\n",
            "agents = [\n",
            "    \"/content/mipt-kuchinav/rock_agent.py\",    # Агент, выбирающий только камень\n",
            "    \"/content/mipt-kuchinav/random_agent.py\",  # Случайный агент\n",
            "    \"/content/mipt-kuchinav/copy_opponent.py\", # Агент, копирующий противника\n",
            "    \"/content/mipt-kuchinav/cyclic_agent.py\",  # Цикличный агент\n",
            "    \"/content/mipt-kuchinav/counter_agent.py\", # Агент, контрящий ходы\n",
            "]\n",
            "\n",
            "# Турнир: каждый агент против каждого\n",
            "results = {}\n",
            "\n",
            "for i in range(len(agents)):\n",
            "    for j in range(i + 1, len(agents)):\n",
            "        agent1, agent2 = agents[i], agents[j]\n",
            "\n",
            "        # Оценка матча между двумя агентами\n",
            "        match_result = evaluate(\"rps\", [agent1, agent2], configuration={\"episodeSteps\": 100})\n",
            "        results[(agent1, agent2)] = match_result\n",
            "\n",
            "# Вывод результатов\n",
            "for (agent1, agent2), score in results.items():\n",
            "    print(f\"Match {agent1} vs {agent2}: {score}\")\n"
          ]
        }
      ]
    },
    {
      "cell_type": "code",
      "source": [
        "!python3 /content/mipt-kuchinav/main.py"
      ],
      "metadata": {
        "id": "CQumnfccPTBX",
        "outputId": "45907ec2-2046-434e-df87-1e5177ff3aad",
        "colab": {
          "base_uri": "https://localhost:8080/"
        }
      },
      "execution_count": 64,
      "outputs": [
        {
          "output_type": "stream",
          "name": "stdout",
          "text": [
            "2024-11-18 12:27:50.808021: E external/local_xla/xla/stream_executor/cuda/cuda_fft.cc:485] Unable to register cuFFT factory: Attempting to register factory for plugin cuFFT when one has already been registered\n",
            "2024-11-18 12:27:50.841240: E external/local_xla/xla/stream_executor/cuda/cuda_dnn.cc:8454] Unable to register cuDNN factory: Attempting to register factory for plugin cuDNN when one has already been registered\n",
            "2024-11-18 12:27:50.851220: E external/local_xla/xla/stream_executor/cuda/cuda_blas.cc:1452] Unable to register cuBLAS factory: Attempting to register factory for plugin cuBLAS when one has already been registered\n",
            "2024-11-18 12:27:52.586230: W tensorflow/compiler/tf2tensorrt/utils/py_utils.cc:38] TF-TRT Warning: Could not find TensorRT\n",
            "/usr/local/lib/python3.10/dist-packages/pygame/pkgdata.py:25: DeprecationWarning: pkg_resources is deprecated as an API. See https://setuptools.pypa.io/en/latest/pkg_resources.html\n",
            "  from pkg_resources import resource_stream, resource_exists\n",
            "/usr/local/lib/python3.10/dist-packages/pkg_resources/__init__.py:3154: DeprecationWarning: Deprecated call to `pkg_resources.declare_namespace('google')`.\n",
            "Implementing implicit namespace packages (as specified in PEP 420) is preferred to `pkg_resources.declare_namespace`. See https://setuptools.pypa.io/en/latest/references/keywords.html#keyword-namespace-packages\n",
            "  declare_namespace(pkg)\n",
            "/usr/local/lib/python3.10/dist-packages/pkg_resources/__init__.py:3154: DeprecationWarning: Deprecated call to `pkg_resources.declare_namespace('google.cloud')`.\n",
            "Implementing implicit namespace packages (as specified in PEP 420) is preferred to `pkg_resources.declare_namespace`. See https://setuptools.pypa.io/en/latest/references/keywords.html#keyword-namespace-packages\n",
            "  declare_namespace(pkg)\n",
            "/usr/local/lib/python3.10/dist-packages/pkg_resources/__init__.py:3154: DeprecationWarning: Deprecated call to `pkg_resources.declare_namespace('sphinxcontrib')`.\n",
            "Implementing implicit namespace packages (as specified in PEP 420) is preferred to `pkg_resources.declare_namespace`. See https://setuptools.pypa.io/en/latest/references/keywords.html#keyword-namespace-packages\n",
            "  declare_namespace(pkg)\n",
            "Loading environment lux_ai_s3 failed: No module named 'gymnax'\n",
            "Match /content/mipt-kuchinav/rock_agent.py vs /content/mipt-kuchinav/random_agent.py: [[0, 0]]\n",
            "Match /content/mipt-kuchinav/rock_agent.py vs /content/mipt-kuchinav/copy_opponent.py: [[0, 0]]\n",
            "Match /content/mipt-kuchinav/rock_agent.py vs /content/mipt-kuchinav/cyclic_agent.py: [[0, 0]]\n",
            "Match /content/mipt-kuchinav/rock_agent.py vs /content/mipt-kuchinav/counter_agent.py: [[-97.0, 97.0]]\n",
            "Match /content/mipt-kuchinav/random_agent.py vs /content/mipt-kuchinav/copy_opponent.py: [[0, 0]]\n",
            "Match /content/mipt-kuchinav/random_agent.py vs /content/mipt-kuchinav/cyclic_agent.py: [[0, 0]]\n",
            "Match /content/mipt-kuchinav/random_agent.py vs /content/mipt-kuchinav/counter_agent.py: [[0, 0]]\n",
            "Match /content/mipt-kuchinav/copy_opponent.py vs /content/mipt-kuchinav/cyclic_agent.py: [[-98.0, 98.0]]\n",
            "Match /content/mipt-kuchinav/copy_opponent.py vs /content/mipt-kuchinav/counter_agent.py: [[-50.0, 50.0]]\n",
            "Match /content/mipt-kuchinav/cyclic_agent.py vs /content/mipt-kuchinav/counter_agent.py: [[0, 0]]\n"
          ]
        }
      ]
    }
  ],
  "metadata": {
    "colab": {
      "provenance": [],
      "toc_visible": true
    },
    "kernelspec": {
      "display_name": "Python 3",
      "name": "python3"
    },
    "language_info": {
      "name": "python"
    }
  },
  "nbformat": 4,
  "nbformat_minor": 0
}